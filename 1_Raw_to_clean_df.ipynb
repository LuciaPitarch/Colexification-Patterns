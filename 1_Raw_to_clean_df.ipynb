{
  "nbformat": 4,
  "nbformat_minor": 0,
  "metadata": {
    "colab": {
      "name": "1. Raw_to_clean_df.ipynb",
      "provenance": [],
      "authorship_tag": "ABX9TyM89vjVrPduuA7pq18mF5kK",
      "include_colab_link": true
    },
    "kernelspec": {
      "name": "python3",
      "display_name": "Python 3"
    },
    "language_info": {
      "name": "python"
    }
  },
  "cells": [
    {
      "cell_type": "markdown",
      "metadata": {
        "id": "view-in-github",
        "colab_type": "text"
      },
      "source": [
        "<a href=\"https://colab.research.google.com/github/LuciaPitarch/Colexification-Patterns/blob/main/1_Raw_to_clean_df.ipynb\" target=\"_parent\"><img src=\"https://colab.research.google.com/assets/colab-badge.svg\" alt=\"Open In Colab\"/></a>"
      ]
    },
    {
      "cell_type": "code",
      "metadata": {
        "id": "z_ie008ShSkm"
      },
      "source": [
        "# Import libraries\n",
        "import pandas\n",
        "import nltk\n",
        "nltk.download('punkt')\n",
        "from google.colab import files\n"
      ],
      "execution_count": null,
      "outputs": []
    },
    {
      "cell_type": "code",
      "metadata": {
        "id": "ktfS0rb2hgr_"
      },
      "source": [
        "# Load raw data. Accesible in: https://clics.clld.org/download\n",
        "!gdown --id 1EySPG8ZDMfMTvhUQaw8w1k6NgywI4N4S #df_all_raw\n",
        "raw_df = pandas.read_csv('df_all_raw.csv')"
      ],
      "execution_count": null,
      "outputs": []
    },
    {
      "cell_type": "markdown",
      "metadata": {
        "id": "qWwAjuSHh60j"
      },
      "source": [
        "This part shows an overview of the raw data"
      ]
    },
    {
      "cell_type": "code",
      "metadata": {
        "id": "O-PzRp10hjfR"
      },
      "source": [
        "# Raw data overview\n",
        "raw_df.info()"
      ],
      "execution_count": null,
      "outputs": []
    },
    {
      "cell_type": "code",
      "metadata": {
        "id": "sBWEN9kshmCS"
      },
      "source": [
        "# concepts per language family:\n",
        "raw_df.groupby('Family').size().sort_values(ascending=False)"
      ],
      "execution_count": null,
      "outputs": []
    },
    {
      "cell_type": "code",
      "metadata": {
        "id": "JQmlcyfChraZ"
      },
      "source": [
        "# varieties per language family:\n",
        "df_fam = raw_df[['Family','Glottocode']].copy()\n",
        "df_fam = df_fam.drop_duplicates()\n",
        "n_varieties = df_fam.groupby('Family').size()\n",
        "n_varieties = n_varieties.sort_values(ascending=False)\n",
        "n_varieties"
      ],
      "execution_count": null,
      "outputs": []
    },
    {
      "cell_type": "code",
      "metadata": {
        "id": "_TWwiLryhu7R"
      },
      "source": [
        "# Diacrhronic data overview\n",
        "#tokenize variety, add flag column\n",
        "raw_df['tk_variety']=raw_df['variety'].apply(nltk.tokenize.word_tokenize)\n",
        "raw_df['flag']=0\n",
        "#find diachronic varieties by keywords\n",
        "diachronic_varieties = ['Old', 'Middle', 'Classic', 'Ancient', 'Proto']\n",
        "for i in range(len(raw_df['tk_variety'])):\n",
        "  r = raw_df['tk_variety'].iloc[i]\n",
        "  if any((v in diachronic_varieties) for v in r):\n",
        "    raw_df['flag'].iloc[i]+=1\n",
        "#show data for diachronic varieties\n",
        "diachronic_varieties = raw_df[raw_df['flag']>0]\n",
        "diachronic_varieties"
      ],
      "execution_count": null,
      "outputs": []
    },
    {
      "cell_type": "code",
      "metadata": {
        "id": "VNMB0mtnhyow"
      },
      "source": [
        "#show data for diachronic varieties with more concepts (Indo-European and Proto-Polynesian)\n",
        "print(diachronic_varieties[diachronic_varieties['Family']=='Indo-European'].groupby('variety').size())\n",
        "print(diachronic_varieties[diachronic_varieties['Family']=='Austronesian'].groupby('variety').size())"
      ],
      "execution_count": null,
      "outputs": []
    },
    {
      "cell_type": "markdown",
      "metadata": {
        "id": "c-WLUVEtiA6N"
      },
      "source": [
        "Data cleaning"
      ]
    },
    {
      "cell_type": "code",
      "metadata": {
        "id": "sU7qV505iCgZ"
      },
      "source": [
        "# Select wanted columns\n",
        "clean_df = raw_df[['Form', 'clics_form', 'Concepticon_Gloss', 'Ontological_Category', \n",
        "                   'Semantic_Field', 'variety', 'Family', 'Latitude', 'Longitude']].copy()"
      ],
      "execution_count": null,
      "outputs": []
    },
    {
      "cell_type": "code",
      "metadata": {
        "id": "2jBnK7CsiEjt"
      },
      "source": [
        "# Select wanted varieties (Romance and Polynesian)\n",
        "def select_varieties (language_list):\n",
        "  new_df = clean_df #creates a new df to preserve original df intact\n",
        "  new_df['flag']=0 # add flag column\n",
        "  #flag wanted varieties\n",
        "  for i in range(len(new_df['variety'])):\n",
        "    if any(l==new_df['variety'].loc[i] for l in language_list):\n",
        "      new_df['flag'].iloc[i]+=1\n",
        "  # delete not flagged columns\n",
        "  new_df = new_df.drop(new_df[new_df.flag < 1].index)\n",
        "  # reset index\n",
        "  new_df = new_df.reset_index(drop=True)\n",
        "  new_df['flag']=0 #reset flag column\n",
        "  return(new_df)"
      ],
      "execution_count": null,
      "outputs": []
    },
    {
      "cell_type": "code",
      "metadata": {
        "id": "7a6VJvz_iHJ0"
      },
      "source": [
        "#lists of hand_selected wanted varieties grouped by language family\n",
        "romance_languages = ['Spanish', 'Friulian', 'Ladin', 'Seychelles creole', 'Portuguese', 'Catalan', 'French', 'Provençal', 'Italian', 'Latin', 'Sardinian', 'Latin-std', 'Romanian', 'Occitan'\n",
        "'Galician-std', 'Romagnol-std', 'Old Spanish', 'Old Italian', 'Old French', 'Old Provençal', 'Middle French']\n",
        "polynesian_languages = ['Proto Polynesian','Tongan', 'Tikopia', 'Anuta', 'Rennell', 'Samoan', 'Rapa Nui', 'Rapanui', 'Tahitian', 'Maori', 'Tuamotuan', 'Marquesan', 'Hawaiian']"
      ],
      "execution_count": null,
      "outputs": []
    },
    {
      "cell_type": "code",
      "metadata": {
        "id": "Xt-yYHBJiLIP"
      },
      "source": [
        "#df with all the data for each wanted language family\n",
        "romance_df = select_varieties(romance_languages)\n",
        "polynesian_df = select_varieties(polynesian_languages)"
      ],
      "execution_count": null,
      "outputs": []
    },
    {
      "cell_type": "code",
      "metadata": {
        "id": "9mFGXC3FiNZd"
      },
      "source": [
        "#download csv\n",
        "romance_df.to_csv('romance_df.csv')\n",
        "files.download('romance_df.csv')\n",
        "polynesian_df.to_csv('polynesian_df.csv')\n",
        "files.download('polynesian_df.csv')"
      ],
      "execution_count": null,
      "outputs": []
    }
  ]
}