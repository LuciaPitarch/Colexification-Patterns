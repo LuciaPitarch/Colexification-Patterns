{
  "nbformat": 4,
  "nbformat_minor": 0,
  "metadata": {
    "colab": {
      "name": "2. Colexification_pairs.ipynb",
      "provenance": [],
      "toc_visible": true,
      "include_colab_link": true
    },
    "kernelspec": {
      "name": "python3",
      "display_name": "Python 3"
    }
  },
  "cells": [
    {
      "cell_type": "markdown",
      "metadata": {
        "id": "view-in-github",
        "colab_type": "text"
      },
      "source": [
        "<a href=\"https://colab.research.google.com/github/LuciaPitarch/Colexification-Patterns/blob/main/2_Colexification_pairs.ipynb\" target=\"_parent\"><img src=\"https://colab.research.google.com/assets/colab-badge.svg\" alt=\"Open In Colab\"/></a>"
      ]
    },
    {
      "cell_type": "markdown",
      "metadata": {
        "id": "M7ri9wcCbFc9"
      },
      "source": [
        "This file takes as input a df with the concepts and other linguistic data related to them retrieved from CLICS3 and outputs a file with its colexifications. "
      ]
    },
    {
      "cell_type": "markdown",
      "metadata": {
        "id": "3xhmSmIzJrjz"
      },
      "source": [
        "NOTE: this file is in both python and R.\n",
        "\n",
        "\n",
        "To sun R code on colab execute the following line and in every cell remember to write %%R ath the beginning"
      ]
    },
    {
      "cell_type": "code",
      "metadata": {
        "id": "eDs-77FkNoZQ"
      },
      "source": [
        "%load_ext rpy2.ipython"
      ],
      "execution_count": null,
      "outputs": []
    },
    {
      "cell_type": "code",
      "metadata": {
        "id": "U3QxAKi2NprN"
      },
      "source": [
        "import pandas as pd"
      ],
      "execution_count": null,
      "outputs": []
    },
    {
      "cell_type": "markdown",
      "metadata": {
        "id": "R-jgl23xKGK_"
      },
      "source": [
        "We download the dfs regarding the relevent varieties for this study from Drive"
      ]
    },
    {
      "cell_type": "code",
      "metadata": {
        "colab": {
          "base_uri": "https://localhost:8080/"
        },
        "id": "9ujQyeHfMGSb",
        "outputId": "f910c92e-54a3-44ce-e5f0-8af05b2a6cf6"
      },
      "source": [
        "!gdown --id 1F94Fd8BxmKz5-j1UVIMpFq73o-PIlw6_ #polynesian\n",
        "!gdown --id 1ZtZvWEIWeLjDcaIpLdvzOWrDSP1P_JV9 #romance"
      ],
      "execution_count": null,
      "outputs": [
        {
          "output_type": "stream",
          "text": [
            "Downloading...\n",
            "From: https://drive.google.com/uc?id=1tcjHSb-bDcJRnUXSbFrgt9QaGSe7-qzL\n",
            "To: /content/celtic_df.csv\n",
            "100% 2.00M/2.00M [00:00<00:00, 63.9MB/s]\n",
            "Downloading...\n",
            "From: https://drive.google.com/uc?id=1dYlbOhVVarL1BayystQeM2uWqtW7cBF1\n",
            "To: /content/oldest_varieties_df.csv\n",
            "100% 741k/741k [00:00<00:00, 45.3MB/s]\n",
            "Downloading...\n",
            "From: https://drive.google.com/uc?id=1F94Fd8BxmKz5-j1UVIMpFq73o-PIlw6_\n",
            "To: /content/polynesian_df.csv\n",
            "2.46MB [00:00, 74.3MB/s]\n",
            "Downloading...\n",
            "From: https://drive.google.com/uc?id=1ZtZvWEIWeLjDcaIpLdvzOWrDSP1P_JV9\n",
            "To: /content/romance_df.csv\n",
            "4.02MB [00:00, 118MB/s]\n",
            "Downloading...\n",
            "From: https://drive.google.com/uc?id=1R94xD9lvSDc_mBO-HsFMs-JYYRBurlah\n",
            "To: /content/germanic_df.csv\n",
            "3.68MB [00:00, 58.1MB/s]\n"
          ],
          "name": "stdout"
        }
      ]
    },
    {
      "cell_type": "code",
      "metadata": {
        "id": "QDw1k1oTq3Ad",
        "colab": {
          "base_uri": "https://localhost:8080/",
          "height": 320
        },
        "outputId": "284e4599-d7b9-4337-f0a6-d97116be0df6"
      },
      "source": [
        "df = pd.read_csv('polynesian_df.csv')"
      ],
      "execution_count": null,
      "outputs": [
        {
          "output_type": "error",
          "ename": "AttributeError",
          "evalue": "ignored",
          "traceback": [
            "\u001b[0;31m---------------------------------------------------------------------------\u001b[0m",
            "\u001b[0;31mAttributeError\u001b[0m                            Traceback (most recent call last)",
            "\u001b[0;32m<ipython-input-6-30f8f48cb854>\u001b[0m in \u001b[0;36m<module>\u001b[0;34m()\u001b[0m\n\u001b[1;32m      1\u001b[0m \u001b[0mdf\u001b[0m \u001b[0;34m=\u001b[0m \u001b[0mpd\u001b[0m\u001b[0;34m.\u001b[0m\u001b[0mread_csv\u001b[0m\u001b[0;34m(\u001b[0m\u001b[0;34m'romance_df.csv'\u001b[0m\u001b[0;34m)\u001b[0m\u001b[0;34m\u001b[0m\u001b[0;34m\u001b[0m\u001b[0m\n\u001b[0;32m----> 2\u001b[0;31m \u001b[0mpd\u001b[0m\u001b[0;34m.\u001b[0m\u001b[0mhead\u001b[0m\u001b[0;34m(\u001b[0m\u001b[0mdf\u001b[0m\u001b[0;34m)\u001b[0m\u001b[0;34m\u001b[0m\u001b[0;34m\u001b[0m\u001b[0m\n\u001b[0m",
            "\u001b[0;32m/usr/local/lib/python3.7/dist-packages/pandas/__init__.py\u001b[0m in \u001b[0;36m__getattr__\u001b[0;34m(name)\u001b[0m\n\u001b[1;32m    256\u001b[0m             \u001b[0;32mreturn\u001b[0m \u001b[0m_SparseArray\u001b[0m\u001b[0;34m\u001b[0m\u001b[0;34m\u001b[0m\u001b[0m\n\u001b[1;32m    257\u001b[0m \u001b[0;34m\u001b[0m\u001b[0m\n\u001b[0;32m--> 258\u001b[0;31m         \u001b[0;32mraise\u001b[0m \u001b[0mAttributeError\u001b[0m\u001b[0;34m(\u001b[0m\u001b[0;34mf\"module 'pandas' has no attribute '{name}'\"\u001b[0m\u001b[0;34m)\u001b[0m\u001b[0;34m\u001b[0m\u001b[0;34m\u001b[0m\u001b[0m\n\u001b[0m\u001b[1;32m    259\u001b[0m \u001b[0;34m\u001b[0m\u001b[0m\n\u001b[1;32m    260\u001b[0m \u001b[0;34m\u001b[0m\u001b[0m\n",
            "\u001b[0;31mAttributeError\u001b[0m: module 'pandas' has no attribute 'head'"
          ]
        }
      ]
    },
    {
      "cell_type": "code",
      "metadata": {
        "colab": {
          "base_uri": "https://localhost:8080/"
        },
        "id": "ttdJUprcZdFr",
        "outputId": "e27651f1-8541-4c4b-9e6a-11304337f220"
      },
      "source": [
        "%%R # to run R on colab\n",
        "#This script creates a data frame of colexifications \n",
        "\n",
        "library(dplyr)\n",
        "library(readr)\n",
        "library(tidyr)\n",
        "\n",
        "\n",
        "if (!file.exists(\"polynesian_df_colexifications.csv\")){ #if the file doesnt exist: compute it\n",
        "  df <- read_csv('polynesian_df.csv') # cleaned CLICS file\n",
        "  d_colex <- df %>%\n",
        "    select(Form,clics_form,Concepticon_ID,Glottocode,Concepticon_Gloss,Family,variety,Ontological_Category,Semantic_Field) %>%\n",
        "    drop_na() %>%\n",
        "    unique()\n",
        "    print('d_colex is now created selecting only relevant columns')\n",
        "    print('first line of d_colex:')\n",
        "    print(head(d_colex, 1))\n",
        "    print(paste('number of rows is: ', nrow(d_colex)))\n",
        "\n",
        "  dd <- inner_join(d_colex,d_colex,by=c(\"Form\",\"clics_form\",\"Family\",\"variety\",\"Ontological_Category\",\"Semantic_Field\")) %>% \n",
        "    filter(Concepticon_ID.x != Concepticon_ID.y) %>% # find rows/cases where conditions are true\n",
        "    unique() # remove duplicates\n",
        "  d_colex <- dd[!duplicated(lapply(as.data.frame(t(dd), stringsAsFactors=FALSE), sort)),]  \n",
        "  # remove rows where Concepticon_ID1 and Concepticon_ID2 are permutations of each other \n",
        "  print('d_colex is now finalized')\n",
        "  print('first line of new d_colex:')\n",
        "  print(head(d_colex, 1))\n",
        "  print(paste('number of rows is: ', nrow(d_colex)))\n",
        "\n",
        "  write_csv(d_colex,'polynesian_df_colexifications.csv')\n",
        "} else { #if it exists: load it\n",
        " print('Loading pre-processed colexification df')\n",
        "  d_colex <- read_csv('polynesian_df_colexifications.csv')\n",
        "}"
      ],
      "execution_count": null,
      "outputs": [
        {
          "output_type": "stream",
          "text": [
            "R[write to console]: \n",
            "Attaching package: ‘dplyr’\n",
            "\n",
            "\n",
            "R[write to console]: The following objects are masked from ‘package:stats’:\n",
            "\n",
            "    filter, lag\n",
            "\n",
            "\n",
            "R[write to console]: The following objects are masked from ‘package:base’:\n",
            "\n",
            "    intersect, setdiff, setequal, union\n",
            "\n",
            "\n"
          ],
          "name": "stderr"
        },
        {
          "output_type": "stream",
          "text": [
            "\n",
            "── Column specification ────────────────────────────────────────────────────────\n",
            "cols(\n",
            "  .default = col_character(),\n",
            "  X1 = col_double(),\n",
            "  Concepticon_ID = col_double(),\n",
            "  Latitude = col_double(),\n",
            "  Longitude = col_double(),\n",
            "  AGE_OF_ACQUISITION = col_double(),\n",
            "  CONCRETENESS = col_double(),\n",
            "  FAMILIARITY = col_double(),\n",
            "  IMAGABILITY = col_double(),\n",
            "  KUCERA_FRANCIS_FREQUENCY = col_double()\n",
            ")\n",
            "ℹ Use `spec()` for the full column specifications.\n",
            "\n",
            "[1] \"d_colex is now created selecting only relevant columns\"\n",
            "[1] \"first line of d_colex:\"\n",
            "# A tibble: 1 x 9\n",
            "  Form   clics_form Concepticon_ID Glottocode Concepticon_Gloss Family   variety\n",
            "  <chr>  <chr>               <dbl> <chr>      <chr>             <chr>    <chr>  \n",
            "1 hoʔōla hoola                 499 hawa1245   CURE              Austron… Hawaii…\n",
            "# … with 2 more variables: Ontological_Category <chr>, Semantic_Field <chr>\n",
            "[1] \"number of rows is:  13801\"\n",
            "[1] \"d_colex is now finalized\"\n",
            "[1] \"first line of new d_colex:\"\n",
            "# A tibble: 1 x 11\n",
            "  Form  clics_form Concepticon_ID.x Glottocode Concepticon_Glos… Family  variety\n",
            "  <chr> <chr>                 <dbl> <chr>      <chr>             <chr>   <chr>  \n",
            "1 pule  pule                     24 hawa1245   PRAY              Austro… Hawaii…\n",
            "# … with 4 more variables: Ontological_Category <chr>, Semantic_Field <chr>,\n",
            "#   Concepticon_ID.y <dbl>, Concepticon_Gloss.y <chr>\n",
            "[1] \"number of rows is:  864\"\n"
          ],
          "name": "stdout"
        }
      ]
    },
    {
      "cell_type": "markdown",
      "metadata": {
        "id": "4eNCajNN5Hd7"
      },
      "source": [
        "To save dataframe:"
      ]
    },
    {
      "cell_type": "code",
      "metadata": {
        "id": "uY6rSZC7LqjP",
        "colab": {
          "base_uri": "https://localhost:8080/",
          "height": 17
        },
        "outputId": "dc744e2c-9e15-4c70-da28-e848aab53ef5"
      },
      "source": [
        "from google.colab import files\n",
        "files.download('polynesian_df_colexifications.csv')"
      ],
      "execution_count": null,
      "outputs": [
        {
          "output_type": "display_data",
          "data": {
            "application/javascript": [
              "\n",
              "    async function download(id, filename, size) {\n",
              "      if (!google.colab.kernel.accessAllowed) {\n",
              "        return;\n",
              "      }\n",
              "      const div = document.createElement('div');\n",
              "      const label = document.createElement('label');\n",
              "      label.textContent = `Downloading \"${filename}\": `;\n",
              "      div.appendChild(label);\n",
              "      const progress = document.createElement('progress');\n",
              "      progress.max = size;\n",
              "      div.appendChild(progress);\n",
              "      document.body.appendChild(div);\n",
              "\n",
              "      const buffers = [];\n",
              "      let downloaded = 0;\n",
              "\n",
              "      const channel = await google.colab.kernel.comms.open(id);\n",
              "      // Send a message to notify the kernel that we're ready.\n",
              "      channel.send({})\n",
              "\n",
              "      for await (const message of channel.messages) {\n",
              "        // Send a message to notify the kernel that we're ready.\n",
              "        channel.send({})\n",
              "        if (message.buffers) {\n",
              "          for (const buffer of message.buffers) {\n",
              "            buffers.push(buffer);\n",
              "            downloaded += buffer.byteLength;\n",
              "            progress.value = downloaded;\n",
              "          }\n",
              "        }\n",
              "      }\n",
              "      const blob = new Blob(buffers, {type: 'application/binary'});\n",
              "      const a = document.createElement('a');\n",
              "      a.href = window.URL.createObjectURL(blob);\n",
              "      a.download = filename;\n",
              "      div.appendChild(a);\n",
              "      a.click();\n",
              "      div.remove();\n",
              "    }\n",
              "  "
            ],
            "text/plain": [
              "<IPython.core.display.Javascript object>"
            ]
          },
          "metadata": {
            "tags": []
          }
        },
        {
          "output_type": "display_data",
          "data": {
            "application/javascript": [
              "download(\"download_5500519a-0cd7-404b-9675-8a4b143d8a8f\", \"romance_df_colexifications.csv\", 256062)"
            ],
            "text/plain": [
              "<IPython.core.display.Javascript object>"
            ]
          },
          "metadata": {
            "tags": []
          }
        }
      ]
    },
    {
      "cell_type": "markdown",
      "metadata": {
        "id": "HJ5TXDLPiimj"
      },
      "source": [
        "Repeat the process with romance data"
      ]
    }
  ]
}