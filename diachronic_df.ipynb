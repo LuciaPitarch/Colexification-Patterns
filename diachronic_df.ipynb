{
  "nbformat": 4,
  "nbformat_minor": 0,
  "metadata": {
    "colab": {
      "name": "diachronic_df.ipynb",
      "provenance": [],
      "authorship_tag": "ABX9TyPFZn7yUnYaaYymVZ4XAtch"
    },
    "kernelspec": {
      "name": "python3",
      "display_name": "Python 3"
    }
  },
  "cells": [
    {
      "cell_type": "markdown",
      "metadata": {
        "id": "dkdShyWH04Nz"
      },
      "source": [
        "This code takes as input a csv file with all the data retrieved from CLICS3. It outputs csv files with the data for the desired languages grouped. In our case we use it to retrieve a df with the data from all romance languages, another df with the data from  germanic languages and third one with polynesian languages.\n"
      ]
    },
    {
      "cell_type": "code",
      "metadata": {
        "id": "PsG3f2HKm1qq"
      },
      "source": [
        "import pandas\n",
        "from google.colab import files"
      ],
      "execution_count": 1,
      "outputs": []
    },
    {
      "cell_type": "code",
      "metadata": {
        "colab": {
          "base_uri": "https://localhost:8080/"
        },
        "id": "l4znT_LFm8-W",
        "outputId": "3be5fea7-c58f-4ce7-8f13-965887282c43"
      },
      "source": [
        "!gdown --id 1EySPG8ZDMfMTvhUQaw8w1k6NgywI4N4S #df_all_raw"
      ],
      "execution_count": 2,
      "outputs": [
        {
          "output_type": "stream",
          "text": [
            "Downloading...\n",
            "From: https://drive.google.com/uc?id=1EySPG8ZDMfMTvhUQaw8w1k6NgywI4N4S\n",
            "To: /content/df_all_raw.csv\n",
            "244MB [00:03, 78.5MB/s]\n"
          ],
          "name": "stdout"
        }
      ]
    },
    {
      "cell_type": "code",
      "metadata": {
        "colab": {
          "base_uri": "https://localhost:8080/"
        },
        "id": "vtMvUdTCnJ4w",
        "outputId": "074901fc-37d8-40d5-eb73-be3bbc523820"
      },
      "source": [
        "df = pandas.read_csv('df_all_raw.csv')"
      ],
      "execution_count": 3,
      "outputs": [
        {
          "output_type": "stream",
          "text": [
            "/usr/local/lib/python3.7/dist-packages/IPython/core/interactiveshell.py:2718: DtypeWarning: Columns (4) have mixed types.Specify dtype option on import or set low_memory=False.\n",
            "  interactivity=interactivity, compiler=compiler, result=result)\n"
          ],
          "name": "stderr"
        }
      ]
    },
    {
      "cell_type": "code",
      "metadata": {
        "id": "gMJUZHbXuVzW"
      },
      "source": [
        "def search_varieties (language_list):\n",
        "  new_df = df #creates a new df to preserve original df intact\n",
        "  new_df['flag']=0 # add flag column\n",
        "  #flag wanted varieties\n",
        "  for i in range(len(new_df['variety'])):\n",
        "    if any(l==new_df['variety'].loc[i] for l in language_list):\n",
        "      new_df['flag'].iloc[i]+=1\n",
        "  # delete not flagged columns\n",
        "  new_df = new_df.drop(new_df[new_df.flag < 1].index)\n",
        "  # reset index\n",
        "  new_df = new_df.reset_index(drop=True)\n",
        "  new_df['flag']=0 #reset flag column\n",
        "  return(new_df)"
      ],
      "execution_count": 4,
      "outputs": []
    },
    {
      "cell_type": "code",
      "metadata": {
        "id": "MtSz3wRhyUnc"
      },
      "source": [
        "def save_and_download (dataframe, file_name):\n",
        "  #save and download files\n",
        "  dataframe.to_csv(file_name)\n",
        "  files.download(file_name)"
      ],
      "execution_count": 5,
      "outputs": []
    },
    {
      "cell_type": "code",
      "metadata": {
        "id": "TGzU6PmZnWge"
      },
      "source": [
        "#lists of wanted varieties grouped by language family\n",
        "romance_languages = ['Spanish', 'Friulian', 'Ladin', 'Seychelles creole', 'Portuguese', 'Catalan', 'French', 'Provençal', 'Italian', 'Latin', 'Sardinian', 'Latin-std', 'Romanian', 'Occitan'\n",
        "'Galician-std', 'Romagnol-std', 'Old Spanish', 'Old Italian', 'Old French', 'Old Provençal', 'Middle French']\n",
        "germanic_languages = ['Anglo-Frisian', 'Gothic', 'Scandinavian', 'Frisian', 'Netherlandic', 'German', 'Icelandic', 'Faroese', 'Norwegian', 'Danish', 'Swedish', 'Elfdalian', 'Jamaican Creole',\n",
        "                      'Low German', 'Middle-Dutch', 'Middle High German', 'Middle Low German', 'Negerhollands', 'Norwegian (Bokmal)', 'Norwegian(Nynorsk)', 'Old Frisian',\n",
        "                      'Old High German', 'Old Norse', 'Old Saxon', 'Old Swedish', 'Swiss German']\n",
        "oldest_varieties = ['Ancient Aramaic', 'Proto Polynesian', 'Proto-Indo-European']\n",
        "polynesian_languages = ['Proto Polynesian','Tongan', 'Tikopia', 'Anuta', 'Rennell', 'Samoan', 'Rapa Nui', 'Rapanui', 'Tahitian', 'Maori', 'Tuamotuan', 'Marquesan', 'Hawaiian']\n",
        "celtic_languages = ['Gaulish', 'Welsh', 'Middle Welsh', 'Old Welsh', 'Breton', 'Middle Breton', 'Old Breton', 'Scottish Gaelic', 'Irish', 'Old Irish', 'Middle Irish']\n"
      ],
      "execution_count": 8,
      "outputs": []
    },
    {
      "cell_type": "code",
      "metadata": {
        "colab": {
          "base_uri": "https://localhost:8080/"
        },
        "id": "LEr8u0SMwxxz",
        "outputId": "ce5aaca6-a04a-42fb-b6c3-c9da18d958ec"
      },
      "source": [
        "#df with all the data for each wanted language family\n",
        "romance_df = search_varieties(romance_languages)\n",
        "oldest_varieties_df = search_varieties(oldest_varieties)\n",
        "polynesian_df = search_varieties(polynesian_languages)\n",
        "celtic_df = search_varieties(celtic_languages)\n",
        "germanic_df = search_varieties(germanic_languages)"
      ],
      "execution_count": null,
      "outputs": [
        {
          "output_type": "stream",
          "text": [
            "/usr/local/lib/python3.7/dist-packages/pandas/core/indexing.py:670: SettingWithCopyWarning: \n",
            "A value is trying to be set on a copy of a slice from a DataFrame\n",
            "\n",
            "See the caveats in the documentation: https://pandas.pydata.org/pandas-docs/stable/user_guide/indexing.html#returning-a-view-versus-a-copy\n",
            "  iloc._setitem_with_indexer(indexer, value)\n"
          ],
          "name": "stderr"
        }
      ]
    },
    {
      "cell_type": "code",
      "metadata": {
        "colab": {
          "base_uri": "https://localhost:8080/",
          "height": 17
        },
        "id": "JDsEnPVk2TEm",
        "outputId": "cf9579c1-2e59-4b3c-82d2-3c36913d6ca2"
      },
      "source": [
        "#download data\n",
        "save_and_download(romance_df, 'romance_df.csv')\n",
        "save_and_download(oldest_varieties_df, 'oldest_varieties_df.csv')\n",
        "save_and_download(polynesian_df, 'polynesian_df.csv')\n",
        "save_and_download(celtic_df, 'celtic_df.csv')\n",
        "save_and_download(germanic_df, 'germanic_df.csv')"
      ],
      "execution_count": null,
      "outputs": [
        {
          "output_type": "display_data",
          "data": {
            "application/javascript": [
              "\n",
              "    async function download(id, filename, size) {\n",
              "      if (!google.colab.kernel.accessAllowed) {\n",
              "        return;\n",
              "      }\n",
              "      const div = document.createElement('div');\n",
              "      const label = document.createElement('label');\n",
              "      label.textContent = `Downloading \"${filename}\": `;\n",
              "      div.appendChild(label);\n",
              "      const progress = document.createElement('progress');\n",
              "      progress.max = size;\n",
              "      div.appendChild(progress);\n",
              "      document.body.appendChild(div);\n",
              "\n",
              "      const buffers = [];\n",
              "      let downloaded = 0;\n",
              "\n",
              "      const channel = await google.colab.kernel.comms.open(id);\n",
              "      // Send a message to notify the kernel that we're ready.\n",
              "      channel.send({})\n",
              "\n",
              "      for await (const message of channel.messages) {\n",
              "        // Send a message to notify the kernel that we're ready.\n",
              "        channel.send({})\n",
              "        if (message.buffers) {\n",
              "          for (const buffer of message.buffers) {\n",
              "            buffers.push(buffer);\n",
              "            downloaded += buffer.byteLength;\n",
              "            progress.value = downloaded;\n",
              "          }\n",
              "        }\n",
              "      }\n",
              "      const blob = new Blob(buffers, {type: 'application/binary'});\n",
              "      const a = document.createElement('a');\n",
              "      a.href = window.URL.createObjectURL(blob);\n",
              "      a.download = filename;\n",
              "      div.appendChild(a);\n",
              "      a.click();\n",
              "      div.remove();\n",
              "    }\n",
              "  "
            ],
            "text/plain": [
              "<IPython.core.display.Javascript object>"
            ]
          },
          "metadata": {
            "tags": []
          }
        },
        {
          "output_type": "display_data",
          "data": {
            "application/javascript": [
              "download(\"download_9b1b7423-abe8-4241-9f3a-23beeebef176\", \"romance_df.csv\", 4017523)"
            ],
            "text/plain": [
              "<IPython.core.display.Javascript object>"
            ]
          },
          "metadata": {
            "tags": []
          }
        },
        {
          "output_type": "display_data",
          "data": {
            "application/javascript": [
              "\n",
              "    async function download(id, filename, size) {\n",
              "      if (!google.colab.kernel.accessAllowed) {\n",
              "        return;\n",
              "      }\n",
              "      const div = document.createElement('div');\n",
              "      const label = document.createElement('label');\n",
              "      label.textContent = `Downloading \"${filename}\": `;\n",
              "      div.appendChild(label);\n",
              "      const progress = document.createElement('progress');\n",
              "      progress.max = size;\n",
              "      div.appendChild(progress);\n",
              "      document.body.appendChild(div);\n",
              "\n",
              "      const buffers = [];\n",
              "      let downloaded = 0;\n",
              "\n",
              "      const channel = await google.colab.kernel.comms.open(id);\n",
              "      // Send a message to notify the kernel that we're ready.\n",
              "      channel.send({})\n",
              "\n",
              "      for await (const message of channel.messages) {\n",
              "        // Send a message to notify the kernel that we're ready.\n",
              "        channel.send({})\n",
              "        if (message.buffers) {\n",
              "          for (const buffer of message.buffers) {\n",
              "            buffers.push(buffer);\n",
              "            downloaded += buffer.byteLength;\n",
              "            progress.value = downloaded;\n",
              "          }\n",
              "        }\n",
              "      }\n",
              "      const blob = new Blob(buffers, {type: 'application/binary'});\n",
              "      const a = document.createElement('a');\n",
              "      a.href = window.URL.createObjectURL(blob);\n",
              "      a.download = filename;\n",
              "      div.appendChild(a);\n",
              "      a.click();\n",
              "      div.remove();\n",
              "    }\n",
              "  "
            ],
            "text/plain": [
              "<IPython.core.display.Javascript object>"
            ]
          },
          "metadata": {
            "tags": []
          }
        },
        {
          "output_type": "display_data",
          "data": {
            "application/javascript": [
              "download(\"download_dca15e16-672b-4ce0-b642-4d2d8f4b5256\", \"oldest_varieties_df.csv\", 741214)"
            ],
            "text/plain": [
              "<IPython.core.display.Javascript object>"
            ]
          },
          "metadata": {
            "tags": []
          }
        },
        {
          "output_type": "display_data",
          "data": {
            "application/javascript": [
              "\n",
              "    async function download(id, filename, size) {\n",
              "      if (!google.colab.kernel.accessAllowed) {\n",
              "        return;\n",
              "      }\n",
              "      const div = document.createElement('div');\n",
              "      const label = document.createElement('label');\n",
              "      label.textContent = `Downloading \"${filename}\": `;\n",
              "      div.appendChild(label);\n",
              "      const progress = document.createElement('progress');\n",
              "      progress.max = size;\n",
              "      div.appendChild(progress);\n",
              "      document.body.appendChild(div);\n",
              "\n",
              "      const buffers = [];\n",
              "      let downloaded = 0;\n",
              "\n",
              "      const channel = await google.colab.kernel.comms.open(id);\n",
              "      // Send a message to notify the kernel that we're ready.\n",
              "      channel.send({})\n",
              "\n",
              "      for await (const message of channel.messages) {\n",
              "        // Send a message to notify the kernel that we're ready.\n",
              "        channel.send({})\n",
              "        if (message.buffers) {\n",
              "          for (const buffer of message.buffers) {\n",
              "            buffers.push(buffer);\n",
              "            downloaded += buffer.byteLength;\n",
              "            progress.value = downloaded;\n",
              "          }\n",
              "        }\n",
              "      }\n",
              "      const blob = new Blob(buffers, {type: 'application/binary'});\n",
              "      const a = document.createElement('a');\n",
              "      a.href = window.URL.createObjectURL(blob);\n",
              "      a.download = filename;\n",
              "      div.appendChild(a);\n",
              "      a.click();\n",
              "      div.remove();\n",
              "    }\n",
              "  "
            ],
            "text/plain": [
              "<IPython.core.display.Javascript object>"
            ]
          },
          "metadata": {
            "tags": []
          }
        },
        {
          "output_type": "display_data",
          "data": {
            "application/javascript": [
              "download(\"download_37f6a370-a040-4630-a3a2-84941282f09a\", \"polynesian_df.csv\", 2461970)"
            ],
            "text/plain": [
              "<IPython.core.display.Javascript object>"
            ]
          },
          "metadata": {
            "tags": []
          }
        },
        {
          "output_type": "display_data",
          "data": {
            "application/javascript": [
              "\n",
              "    async function download(id, filename, size) {\n",
              "      if (!google.colab.kernel.accessAllowed) {\n",
              "        return;\n",
              "      }\n",
              "      const div = document.createElement('div');\n",
              "      const label = document.createElement('label');\n",
              "      label.textContent = `Downloading \"${filename}\": `;\n",
              "      div.appendChild(label);\n",
              "      const progress = document.createElement('progress');\n",
              "      progress.max = size;\n",
              "      div.appendChild(progress);\n",
              "      document.body.appendChild(div);\n",
              "\n",
              "      const buffers = [];\n",
              "      let downloaded = 0;\n",
              "\n",
              "      const channel = await google.colab.kernel.comms.open(id);\n",
              "      // Send a message to notify the kernel that we're ready.\n",
              "      channel.send({})\n",
              "\n",
              "      for await (const message of channel.messages) {\n",
              "        // Send a message to notify the kernel that we're ready.\n",
              "        channel.send({})\n",
              "        if (message.buffers) {\n",
              "          for (const buffer of message.buffers) {\n",
              "            buffers.push(buffer);\n",
              "            downloaded += buffer.byteLength;\n",
              "            progress.value = downloaded;\n",
              "          }\n",
              "        }\n",
              "      }\n",
              "      const blob = new Blob(buffers, {type: 'application/binary'});\n",
              "      const a = document.createElement('a');\n",
              "      a.href = window.URL.createObjectURL(blob);\n",
              "      a.download = filename;\n",
              "      div.appendChild(a);\n",
              "      a.click();\n",
              "      div.remove();\n",
              "    }\n",
              "  "
            ],
            "text/plain": [
              "<IPython.core.display.Javascript object>"
            ]
          },
          "metadata": {
            "tags": []
          }
        },
        {
          "output_type": "display_data",
          "data": {
            "application/javascript": [
              "download(\"download_947321e4-56c7-40c4-908b-787dd575439c\", \"celtic_df.csv\", 2004484)"
            ],
            "text/plain": [
              "<IPython.core.display.Javascript object>"
            ]
          },
          "metadata": {
            "tags": []
          }
        }
      ]
    }
  ]
}